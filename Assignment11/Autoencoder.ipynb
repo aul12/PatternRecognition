{
 "cells": [
  {
   "cell_type": "markdown",
   "metadata": {},
   "source": [
    "# Autoencoder"
   ]
  },
  {
   "cell_type": "code",
   "execution_count": 2,
   "metadata": {
    "pycharm": {
     "is_executing": false
    }
   },
   "outputs": [
    {
     "name": "stdout",
     "text": [
      "WARNING:tensorflow:From /home/paul/Documents/Uni/PatternRecognition/Assignment11/venv/lib/python3.7/site-packages/tensorflow_core/python/compat/v2_compat.py:88: disable_resource_variables (from tensorflow.python.ops.variable_scope) is deprecated and will be removed in a future version.\n",
      "Instructions for updating:\n",
      "non-resource variables are not supported in the long term\n"
     ],
     "output_type": "stream"
    }
   ],
   "source": [
    "import numpy as np\n",
    "import matplotlib.pyplot as plt\n",
    "import tensorflow.compat.v1 as tf\n",
    "import pickle\n",
    "from sklearn.decomposition import PCA\n",
    "from mpl_toolkits.axes_grid1.axes_divider import make_axes_locatable\n",
    "\n",
    "tf.disable_v2_behavior()"
   ]
  },
  {
   "cell_type": "markdown",
   "metadata": {},
   "source": [
    "## Initialization"
   ]
  },
  {
   "cell_type": "code",
   "execution_count": 3,
   "metadata": {
    "pycharm": {
     "is_executing": false
    }
   },
   "outputs": [
    {
     "data": {
      "text/plain": "<Figure size 648x504 with 1 Axes>",
      "image/png": "[encoded data removed]"
     },
     "metadata": {
      "needs_background": "light"
     },
     "output_type": "display_data"
    }
   ],
   "source": [
    "data = pickle.load(open('dataV.pickle', 'rb'))\n",
    "\n",
    "plt.figure(figsize=(9, 7))\n",
    "plt.scatter(data[:, 0], data[:, 1], label='Data')\n",
    "plt.axis('scaled')\n",
    "plt.xlabel('$x$')\n",
    "plt.ylabel('$y$');"
   ]
  },
  {
   "cell_type": "code",
   "execution_count": 4,
   "metadata": {
    "pycharm": {
     "is_executing": false
    }
   },
   "outputs": [],
   "source": [
    "# Required for the contour lines\n",
    "X, Y = np.mgrid[-2:2:100j, -2:2:100j]\n",
    "data_grid = np.asarray([X.ravel(), Y.ravel()]).transpose()\n",
    "\n",
    "# Reproducible results with TensorFlow\n",
    "def reset():\n",
    "    tf.reset_default_graph()\n",
    "    tf.set_random_seed(1337)\n",
    "    np.random.seed(1337)"
   ]
  },
  {
   "cell_type": "markdown",
   "metadata": {},
   "source": [
    "## Part 1: Linear autoencoder"
   ]
  },
  {
   "cell_type": "code",
   "execution_count": 5,
   "metadata": {
    "pycharm": {
     "is_executing": false
    }
   },
   "outputs": [
    {
     "name": "stdout",
     "text": [
      "WARNING:tensorflow:From <ipython-input-5-d917114c2fb2>:14: dense (from tensorflow.python.layers.core) is deprecated and will be removed in a future version.\n",
      "Instructions for updating:\n",
      "Use keras.layers.Dense instead.\n",
      "WARNING:tensorflow:From /home/paul/Documents/Uni/PatternRecognition/Assignment11/venv/lib/python3.7/site-packages/tensorflow_core/python/layers/core.py:187: Layer.apply (from tensorflow.python.keras.engine.base_layer) is deprecated and will be removed in a future version.\n",
      "Instructions for updating:\n",
      "Please use `layer.__call__` method instead.\n"
     ],
     "output_type": "stream"
    },
    {
     "data": {
      "text/plain": "0.4888161868281835"
     },
     "metadata": {},
     "output_type": "execute_result",
     "execution_count": 5
    }
   ],
   "source": [
    "# Reset the graph before each run to get reproducible results\n",
    "reset()\n",
    "\n",
    "# Dimensions of our network\n",
    "n_inputs = 2\n",
    "n_hidden = 1\n",
    "n_outputs = n_inputs  # In case of autoencoders (AEs), the output dimension must be the same as the input dimension\n",
    "\n",
    "# This creates a node in the graph which can later be fed with an input\n",
    "# [batch, input]: the batch dimension is set implicitly and specified later in the execution phase\n",
    "input = tf.placeholder(tf.float64, shape=[None, n_inputs])\n",
    "\n",
    "# The bottleneck layer contains the PCA codings (projections)\n",
    "coding = tf.layers.dense(input, units=n_hidden)  # Creates a normal neural network layer\n",
    "\n",
    "# The output layer produces (ideally) the input again\n",
    "outputs = tf.layers.dense(coding, units=n_outputs)\n",
    "\n",
    "# The MSE is our error function\n",
    "loss = tf.reduce_mean(tf.square(outputs - input))\n",
    "\n",
    "# Define the optimizer to use (Adam is a more advanced optimizer than SGD)\n",
    "optimizer = tf.train.AdamOptimizer(learning_rate=0.05)\n",
    "\n",
    "# Tells the optimizer that we want to minimize our error function\n",
    "# It returns an operation node which we must later execute to apply one step of the optimizer\n",
    "train = optimizer.minimize(loss)\n",
    "\n",
    "# We have now completed our construction phase and are about to enter the execution phase. The latter is defined by a\n",
    "# session object. You allways need a session to actually perform operations. The state of every variable is connected to\n",
    "# the current session. The lifetime of the variables end when the session closes, e.g. after the with block in the following\n",
    "# (which automatically closes the session)\n",
    "with tf.Session() as sess:\n",
    "    # This is the first time the variables get actually initialized\n",
    "    tf.global_variables_initializer().run()\n",
    "\n",
    "    # Repeat our training operation for multiple epochs\n",
    "    epochs = 5000\n",
    "    for epoch in range(epochs):\n",
    "        # With the feed_dict argument, you must specify the values for all the defined placeholders in the graph (in this\n",
    "        # case, we have only one - the input)\n",
    "        train.run(feed_dict={input: data})\n",
    "    \n",
    "    # After the training finished, we can extract information from our network nodes\n",
    "    proj_linear, predictions_linear, error_linear = sess.run([coding, outputs, loss], feed_dict={input: data})\n",
    "    proj_grid_linear = coding.eval(feed_dict={input: data_grid}).reshape(X.shape)\n",
    "    \n",
    "    # Note: whenever it is possible, use sess.run() instead of node.eval(). With the former, you can compute the values for\n",
    "    #       multiple nodes at once. This facilitates the re-use of already computed nodes (otherwise, the values of all\n",
    "    #       dependent nodes are re-calculated)\n",
    "\n",
    "error_linear"
   ]
  },
  {
   "cell_type": "markdown",
   "metadata": {
    "pycharm": {
     "is_executing": false,
     "name": "#%% md\n"
    }
   },
   "source": [
    "### PCA"
   ]
  },
  {
   "cell_type": "code",
   "execution_count": 6,
   "outputs": [
    {
     "name": "stdout",
     "text": [
      "u_1 = [0.70710678 0.70710678]\n"
     ],
     "output_type": "stream"
    }
   ],
   "source": [
    "pca = PCA(n_components=1)\n",
    "pca.fit(data)\n",
    "u_1 = pca.components_[0]\n",
    "print(\"u_1 = %s\" % str(u_1))"
   ],
   "metadata": {
    "collapsed": false,
    "pycharm": {
     "name": "#%%\n",
     "is_executing": false
    }
   }
  },
  {
   "cell_type": "markdown",
   "source": [
    "### Plot"
   ],
   "metadata": {
    "collapsed": false,
    "pycharm": {
     "name": "#%% md\n"
    }
   }
  },
  {
   "cell_type": "code",
   "execution_count": 7,
   "outputs": [
    {
     "data": {
      "text/plain": "<Figure size 648x504 with 1 Axes>",
      "image/png": "[encoded data removed]"
     },
     "metadata": {
      "needs_background": "light"
     },
     "output_type": "display_data"
    }
   ],
   "source": [
    "plt.figure(figsize=(9, 7))\n",
    "plt.scatter(data[:, 0], data[:, 1], label='Data')\n",
    "plt.axis('scaled')\n",
    "plt.xlabel('$x$')\n",
    "plt.ylabel('$y$')\n",
    "plt.plot([-u_1[0]*3, u_1[0]*3], [-u_1[1]*3, u_1[1]*3], color=\"black\", label=\"PCA line\")\n",
    "plt.scatter(u_1[0] * proj_linear, u_1[1] * proj_linear, label=\"AE Output\")\n",
    "\n",
    "proj_min = np.min(proj_linear)\n",
    "proj_max = np.max(proj_linear)\n",
    "u_1_vert = [-u_1[1] * 3, u_1[0] * 3]\n",
    "for c in range(10):\n",
    "    scale = (c/10 - 0.5) * 4\n",
    "    anchor = u_1 * scale\n",
    "    pt0 = anchor - u_1_vert \n",
    "    pt1 = anchor + u_1_vert\n",
    "    plt.plot([pt0[0], pt1[0]], [pt0[1], pt1[1]])\n",
    "    \n"
   ],
   "metadata": {
    "collapsed": false,
    "pycharm": {
     "name": "#%%\n",
     "is_executing": false
    }
   }
  },
  {
   "cell_type": "markdown",
   "metadata": {},
   "source": [
    "## Part 2: Non-linear autoencoder"
   ]
  },
  {
   "cell_type": "code",
   "execution_count": 10,
   "metadata": {
    "pycharm": {
     "is_executing": false
    }
   },
   "outputs": [
    {
     "name": "stdout",
     "text": [
      "Epoch: 0\tLoss :1.864670\n",
      "Epoch: 500\tLoss :0.056986\n",
      "Epoch: 1000\tLoss :0.052640\n",
      "Epoch: 1500\tLoss :0.056513\n",
      "Epoch: 2000\tLoss :0.881519\n",
      "Epoch: 2500\tLoss :0.061555\n",
      "Epoch: 3000\tLoss :0.050010\n",
      "Epoch: 3500\tLoss :0.037243\n",
      "Epoch: 4000\tLoss :0.086044\n",
      "Epoch: 4500\tLoss :0.028325\n"
     ],
     "output_type": "stream"
    },
    {
     "data": {
      "text/plain": "<matplotlib.collections.PathCollection at 0x7fd23c044e90>"
     },
     "metadata": {},
     "output_type": "execute_result",
     "execution_count": 10
    },
    {
     "data": {
      "text/plain": "<Figure size 648x504 with 1 Axes>",
      "image/png": "[encoded data removed]"
     },
     "metadata": {
      "needs_background": "light"
     },
     "output_type": "display_data"
    }
   ],
   "source": [
    "reset()\n",
    "\n",
    "n_neurons = 20\n",
    "n_inp = data.shape[1]\n",
    "n_out = n_inp\n",
    "n_latent = 1\n",
    "reg_lambda = 0.002\n",
    "\n",
    "inp = tf.placeholder(shape=(None, n_inp), dtype=tf.float32)\n",
    "out = tf.placeholder(shape=(None, n_out), dtype=tf.float32)\n",
    "\n",
    "enc_w_1 = tf.Variable(tf.random_normal([n_inp, n_neurons]))\n",
    "enc_w_2 = tf.Variable(tf.random_normal([n_neurons, n_latent]))\n",
    "dec_w_1 = tf.Variable(tf.random_normal([n_latent, n_neurons]))\n",
    "dec_w_2 = tf.Variable(tf.random_normal([n_neurons, n_out]))\n",
    "\n",
    "enc = tf.nn.tanh(tf.matmul(inp, enc_w_1))\n",
    "latent = tf.matmul(enc, enc_w_2)\n",
    "dec = tf.nn.tanh(tf.matmul(latent, dec_w_1))\n",
    "logits = tf.matmul(dec, dec_w_2)\n",
    "\n",
    "mse_loss = tf.reduce_mean(tf.losses.mean_squared_error(logits, out))\n",
    "reg = tf.reduce_sum(tf.abs(enc_w_1)) + \\\n",
    "    tf.reduce_sum(tf.abs(enc_w_2)) + \\\n",
    "    tf.reduce_sum(tf.abs(dec_w_1)) + \\\n",
    "    tf.reduce_sum(tf.abs(dec_w_2))\n",
    "\n",
    "loss = mse_loss + reg_lambda * reg\n",
    "\n",
    "# Training arguments are chosen experimentally\n",
    "optimizer = tf.train.AdamOptimizer(learning_rate=0.05).minimize(loss)\n",
    "\n",
    "with tf.Session() as sess:\n",
    "    sess.run(tf.global_variables_initializer())\n",
    "    for c in range(5000):\n",
    "        _, loss_val = sess.run([optimizer, loss], feed_dict={\n",
    "            inp: data,\n",
    "            out: data\n",
    "        })\n",
    "        \n",
    "        if c % 500 == 0:\n",
    "            print(\"Epoch: %d\\tLoss :%f\" % (c, loss_val))\n",
    "        \n",
    "        \n",
    "    ae_output = sess.run(logits, feed_dict={\n",
    "        inp: data\n",
    "    })\n",
    "    \n",
    "\n",
    "plt.figure(figsize=(9, 7))\n",
    "plt.scatter(data[:, 0], data[:, 1], label='Data')\n",
    "plt.axis('scaled')\n",
    "plt.xlabel('$x$')\n",
    "plt.ylabel('$y$')\n",
    "plt.scatter(ae_output[:, 0], ae_output[:, 1], label=\"AE Output\")"
   ]
  }
 ],
 "metadata": {
  "kernelspec": {
   "display_name": "Python 3",
   "language": "python",
   "name": "python3"
  },
  "language_info": {
   "codemirror_mode": {
    "name": "ipython",
    "version": 3
   },
   "file_extension": ".py",
   "mimetype": "text/x-python",
   "name": "python",
   "nbconvert_exporter": "python",
   "pygments_lexer": "ipython3",
   "version": "3.6.7"
  },
  "pycharm": {
   "stem_cell": {
    "cell_type": "raw",
    "source": [],
    "metadata": {
     "collapsed": false
    }
   }
  }
 },
 "nbformat": 4,
 "nbformat_minor": 2
}