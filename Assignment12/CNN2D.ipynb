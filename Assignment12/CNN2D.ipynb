{
 "cells": [
  {
   "cell_type": "markdown",
   "metadata": {},
   "source": [
    "# 2D CNN"
   ]
  },
  {
   "cell_type": "code",
   "execution_count": 1,
   "metadata": {
    "pycharm": {
     "is_executing": false
    }
   },
   "outputs": [
    {
     "name": "stderr",
     "text": [
      "/home/timluchterhand/Dokumente/PatternRecognition/Assignment12/venv/lib/python3.6/site-packages/tensorflow/python/framework/dtypes.py:523: FutureWarning: Passing (type, 1) or '1type' as a synonym of type is deprecated; in a future version of numpy, it will be understood as (type, (1,)) / '(1,)type'.\n",
      "  _np_qint8 = np.dtype([(\"qint8\", np.int8, 1)])\n",
      "/home/timluchterhand/Dokumente/PatternRecognition/Assignment12/venv/lib/python3.6/site-packages/tensorflow/python/framework/dtypes.py:524: FutureWarning: Passing (type, 1) or '1type' as a synonym of type is deprecated; in a future version of numpy, it will be understood as (type, (1,)) / '(1,)type'.\n",
      "  _np_quint8 = np.dtype([(\"quint8\", np.uint8, 1)])\n",
      "/home/timluchterhand/Dokumente/PatternRecognition/Assignment12/venv/lib/python3.6/site-packages/tensorflow/python/framework/dtypes.py:525: FutureWarning: Passing (type, 1) or '1type' as a synonym of type is deprecated; in a future version of numpy, it will be understood as (type, (1,)) / '(1,)type'.\n",
      "  _np_qint16 = np.dtype([(\"qint16\", np.int16, 1)])\n",
      "/home/timluchterhand/Dokumente/PatternRecognition/Assignment12/venv/lib/python3.6/site-packages/tensorflow/python/framework/dtypes.py:526: FutureWarning: Passing (type, 1) or '1type' as a synonym of type is deprecated; in a future version of numpy, it will be understood as (type, (1,)) / '(1,)type'.\n",
      "  _np_quint16 = np.dtype([(\"quint16\", np.uint16, 1)])\n",
      "/home/timluchterhand/Dokumente/PatternRecognition/Assignment12/venv/lib/python3.6/site-packages/tensorflow/python/framework/dtypes.py:527: FutureWarning: Passing (type, 1) or '1type' as a synonym of type is deprecated; in a future version of numpy, it will be understood as (type, (1,)) / '(1,)type'.\n",
      "  _np_qint32 = np.dtype([(\"qint32\", np.int32, 1)])\n",
      "/home/timluchterhand/Dokumente/PatternRecognition/Assignment12/venv/lib/python3.6/site-packages/tensorflow/python/framework/dtypes.py:532: FutureWarning: Passing (type, 1) or '1type' as a synonym of type is deprecated; in a future version of numpy, it will be understood as (type, (1,)) / '(1,)type'.\n",
      "  np_resource = np.dtype([(\"resource\", np.ubyte, 1)])\n"
     ],
     "output_type": "stream"
    }
   ],
   "source": [
    "import tensorflow as tf\n",
    "import numpy as np\n",
    "import matplotlib.pyplot as plt\n",
    "import pickle\n",
    "import ipywidgets as widgets\n",
    "from ipywidgets import interact\n",
    "from datetime import datetime\n",
    "from timeit import default_timer as timer\n",
    "\n",
    "# Make sure we get reproducible results after each kernel restart\n",
    "tf.reset_default_graph()\n",
    "tf.set_random_seed(1337)\n",
    "np.random.seed(1337)"
   ]
  },
  {
   "cell_type": "markdown",
   "metadata": {},
   "source": [
    "## Configuration"
   ]
  },
  {
   "cell_type": "code",
   "execution_count": 2,
   "metadata": {
    "pycharm": {
     "is_executing": false
    }
   },
   "outputs": [],
   "source": [
    "# General\n",
    "n_classes = 2\n",
    "batch_size = 25\n",
    "epochs = 20\n",
    "learning_rate = 0.005\n",
    "data_file = \"stl10.pickle\"\n",
    "\n",
    "# Activation function (tanh may not be the best activation function in terms of network performance\n",
    "# but has advantages when plotting the activation images (due to the limited range))\n",
    "act_func = tf.nn.tanh\n",
    "\n",
    "# Regularization (applied to the convolutional layers)\n",
    "reg_scale = 0.001\n",
    "regularizer = tf.contrib.layers.l1_regularizer(reg_scale)\n",
    "\n",
    "# CNN-specific\n",
    "n_cnn_layers = 3\n",
    "n_filters = 4\n",
    "kernel_size = 5\n",
    "pool_size = 3\n",
    "pool_stride = 3"
   ]
  },
  {
   "cell_type": "markdown",
   "source": [
    "## Load data"
   ],
   "metadata": {
    "collapsed": false,
    "pycharm": {
     "name": "#%% md\n"
    }
   }
  },
  {
   "cell_type": "code",
   "execution_count": 30,
   "outputs": [],
   "source": [
    "with open(data_file, \"rb\") as file:\n",
    "    data = pickle.load(file)\n",
    "\n",
    "images = data[\"images\"]\n",
    "labels = data[\"labels\"]\n",
    "selected = [100, 700]\n",
    "selected.extend(list(range(labels.shape[0] - 1, labels.shape[0])))\n",
    "selected_images = images[selected]\n",
    "selected_labels = labels[selected]\n",
    "\n",
    "dataset = tf.data.Dataset.from_tensor_slices((images, labels))\n",
    "dataset = dataset.repeat()\n",
    "dataset = dataset.shuffle(buffer_size=labels.shape[0])\n",
    "dataset = dataset.batch(batch_size=batch_size)\n",
    "data_it = dataset.make_initializable_iterator()\n",
    "\n",
    "example_dataset = tf.data.Dataset.from_tensor_slices((selected_images, selected_labels))\n",
    "example_dataset = example_dataset.batch(batch_size=selected_labels.shape[0])\n",
    "example_it = example_dataset.make_initializable_iterator()"
   ],
   "metadata": {
    "collapsed": false,
    "pycharm": {
     "name": "#%%\n",
     "is_executing": false
    }
   }
  },
  {
   "cell_type": "markdown",
   "source": [
    "## Define network"
   ],
   "metadata": {
    "collapsed": false,
    "pycharm": {
     "name": "#%% md\n"
    }
   }
  },
  {
   "cell_type": "code",
   "execution_count": 40,
   "outputs": [
    {
     "name": "stdout",
     "text": [
      "Input dimensions  of layer 0\n",
      "(?, 96, 96, 3)\n",
      "Input dimensions  of layer 1\n",
      "(?, 30, 30, 4)\n",
      "Input dimensions  of layer 2\n",
      "(?, 9, 9, 4)\n",
      "Output layer shape\n",
      "(?, 8, 8, 4)\n",
      "Logits shape\n",
      "(?, 2)\n",
      "Epoch 0\n",
      "Loss 100.610, Accuracy 0.440\n",
      "Epoch 1\n",
      "Loss 91.143, Accuracy 0.400\n",
      "Epoch 2\n",
      "Loss 82.876, Accuracy 0.680\n",
      "Epoch 3\n",
      "Loss 72.113, Accuracy 0.680\n",
      "Epoch 4\n",
      "Loss 61.341, Accuracy 0.600\n",
      "Epoch 5\n",
      "Loss 81.960, Accuracy 0.680\n",
      "Epoch 6\n",
      "Loss 68.311, Accuracy 0.600\n",
      "Epoch 7\n",
      "Loss 84.405, Accuracy 0.480\n",
      "Epoch 8\n",
      "Loss 67.578, Accuracy 0.480\n",
      "Epoch 9\n",
      "Loss 67.110, Accuracy 0.600\n",
      "Epoch 10\n",
      "Loss 83.605, Accuracy 0.520\n",
      "Epoch 11\n",
      "Loss 64.812, Accuracy 0.680\n",
      "Epoch 12\n",
      "Loss 69.584, Accuracy 0.560\n",
      "Epoch 13\n",
      "Loss 60.229, Accuracy 0.640\n",
      "Epoch 14\n",
      "Loss 69.847, Accuracy 0.440\n",
      "Epoch 15\n",
      "Loss 76.267, Accuracy 0.560\n",
      "Epoch 16\n",
      "Loss 69.503, Accuracy 0.280\n",
      "Epoch 17\n",
      "Loss 54.890, Accuracy 0.600\n",
      "Epoch 18\n",
      "Loss 61.906, Accuracy 0.600\n",
      "Epoch 19\n",
      "Loss 69.810, Accuracy 0.440\n",
      "Epoch 20\n",
      "Loss 68.002, Accuracy 0.440\n",
      "Epoch 21\n",
      "Loss 67.189, Accuracy 0.280\n",
      "Epoch 22\n",
      "Loss 70.111, Accuracy 0.400\n",
      "Epoch 23\n",
      "Loss 53.637, Accuracy 0.640\n",
      "Epoch 24\n",
      "Loss 58.999, Accuracy 0.560\n",
      "Epoch 25\n",
      "Loss 57.869, Accuracy 0.520\n",
      "Epoch 26\n",
      "Loss 59.971, Accuracy 0.560\n",
      "Epoch 27\n",
      "Loss 69.370, Accuracy 0.560\n",
      "Epoch 28\n",
      "Loss 52.446, Accuracy 0.600\n",
      "Epoch 29\n",
      "Loss 48.999, Accuracy 0.680\n",
      "Epoch 30\n",
      "Loss 57.322, Accuracy 0.600\n",
      "Epoch 31\n",
      "Loss 60.553, Accuracy 0.520\n",
      "Epoch 32\n",
      "Loss 62.353, Accuracy 0.440\n",
      "Epoch 33\n",
      "Loss 56.958, Accuracy 0.360\n",
      "Epoch 34\n",
      "Loss 50.661, Accuracy 0.600\n",
      "Epoch 35\n",
      "Loss 49.893, Accuracy 0.520\n",
      "Epoch 36\n",
      "Loss 53.336, Accuracy 0.440\n",
      "Epoch 37\n",
      "Loss 61.231, Accuracy 0.360\n",
      "Epoch 38\n",
      "Loss 51.392, Accuracy 0.400\n",
      "Epoch 39\n",
      "Loss 51.202, Accuracy 0.440\n",
      "Epoch 40\n",
      "Loss 51.744, Accuracy 0.400\n",
      "Epoch 41\n",
      "Loss 61.287, Accuracy 0.400\n",
      "Epoch 42\n",
      "Loss 51.522, Accuracy 0.440\n",
      "Epoch 43\n",
      "Loss 52.632, Accuracy 0.400\n",
      "Epoch 44\n",
      "Loss 53.394, Accuracy 0.480\n",
      "Epoch 45\n",
      "Loss 47.945, Accuracy 0.520\n",
      "Epoch 46\n",
      "Loss 46.873, Accuracy 0.560\n",
      "Epoch 47\n",
      "Loss 50.448, Accuracy 0.560\n",
      "Epoch 48\n",
      "Loss 48.690, Accuracy 0.520\n",
      "Epoch 49\n",
      "Loss 51.281, Accuracy 0.480\n",
      "Epoch 50\n",
      "Loss 49.108, Accuracy 0.520\n",
      "Epoch 51\n",
      "Loss 46.918, Accuracy 0.560\n",
      "Epoch 52\n",
      "Loss 42.497, Accuracy 0.720\n",
      "Epoch 53\n",
      "Loss 48.510, Accuracy 0.440\n",
      "Epoch 54\n",
      "Loss 45.145, Accuracy 0.600\n",
      "Epoch 55\n",
      "Loss 47.653, Accuracy 0.440\n",
      "Epoch 56\n",
      "Loss 44.084, Accuracy 0.680\n",
      "Epoch 57\n",
      "Loss 47.410, Accuracy 0.400\n",
      "Epoch 58\n",
      "Loss 54.283, Accuracy 0.280\n",
      "Epoch 59\n",
      "Loss 52.834, Accuracy 0.320\n",
      "Epoch 60\n",
      "Loss 46.222, Accuracy 0.440\n",
      "Epoch 61\n",
      "Loss 42.687, Accuracy 0.560\n",
      "Epoch 62\n",
      "Loss 42.064, Accuracy 0.680\n",
      "Epoch 63\n",
      "Loss 48.599, Accuracy 0.640\n",
      "Epoch 64\n",
      "Loss 49.549, Accuracy 0.440\n",
      "Epoch 65\n",
      "Loss 46.709, Accuracy 0.480\n",
      "Epoch 66\n",
      "Loss 40.819, Accuracy 0.600\n",
      "Epoch 67\n",
      "Loss 40.443, Accuracy 0.720\n",
      "Epoch 68\n",
      "Loss 41.621, Accuracy 0.680\n",
      "Epoch 69\n",
      "Loss 41.210, Accuracy 0.600\n",
      "Epoch 70\n",
      "Loss 45.184, Accuracy 0.480\n",
      "Epoch 71\n",
      "Loss 36.584, Accuracy 0.840\n",
      "Epoch 72\n",
      "Loss 43.670, Accuracy 0.600\n",
      "Epoch 73\n",
      "Loss 38.681, Accuracy 0.600\n",
      "Epoch 74\n",
      "Loss 45.727, Accuracy 0.400\n",
      "Epoch 75\n",
      "Loss 45.311, Accuracy 0.440\n",
      "Epoch 76\n",
      "Loss 44.177, Accuracy 0.320\n",
      "Epoch 77\n",
      "Loss 41.782, Accuracy 0.480\n",
      "Epoch 78\n",
      "Loss 40.091, Accuracy 0.440\n",
      "Epoch 79\n",
      "Loss 43.858, Accuracy 0.480\n",
      "Epoch 80\n",
      "Loss 42.304, Accuracy 0.280\n",
      "Epoch 81\n",
      "Loss 41.258, Accuracy 0.520\n",
      "Epoch 82\n",
      "Loss 40.014, Accuracy 0.480\n",
      "Epoch 83\n",
      "Loss 39.273, Accuracy 0.560\n",
      "Epoch 84\n",
      "Loss 37.177, Accuracy 0.800\n",
      "Epoch 85\n",
      "Loss 40.694, Accuracy 0.600\n",
      "Epoch 86\n",
      "Loss 38.441, Accuracy 0.880\n",
      "Epoch 87\n",
      "Loss 38.302, Accuracy 0.800\n",
      "Epoch 88\n",
      "Loss 38.581, Accuracy 0.640\n",
      "Epoch 89\n",
      "Loss 38.319, Accuracy 0.760\n",
      "Epoch 90\n",
      "Loss 39.548, Accuracy 0.720\n",
      "Epoch 91\n",
      "Loss 33.945, Accuracy 1.000\n",
      "Epoch 92\n",
      "Loss 42.392, Accuracy 0.600\n",
      "Epoch 93\n",
      "Loss 38.690, Accuracy 0.800\n",
      "Epoch 94\n",
      "Loss 37.301, Accuracy 0.640\n",
      "Epoch 95\n",
      "Loss 35.849, Accuracy 0.960\n",
      "Epoch 96\n",
      "Loss 41.676, Accuracy 0.520\n",
      "Epoch 97\n",
      "Loss 38.987, Accuracy 0.720\n",
      "Epoch 98\n",
      "Loss 38.044, Accuracy 0.600\n",
      "Epoch 99\n",
      "Loss 43.219, Accuracy 0.720\n"
     ],
     "output_type": "stream"
    },
    {
     "data": {
      "text/plain": "<Figure size 432x288 with 1 Axes>",
      "image/png": "[encoded data removed]"
     },
     "metadata": {
      "needs_background": "light"
     },
     "output_type": "display_data"
    },
    {
     "data": {
      "text/plain": "<Figure size 432x288 with 1 Axes>",
      "image/png": "[encoded data removed]"
     },
     "metadata": {
      "needs_background": "light"
     },
     "output_type": "display_data"
    }
   ],
   "source": [
    "kernel_list = []\n",
    "    \n",
    "layers = []\n",
    "data_in, data_out = data_it.get_next()\n",
    "for i in range(n_cnn_layers):\n",
    "    in_tensor = data_in if i == 0 else layers[-1]\n",
    "    print(\"Input dimensions  of layer %d\" % i)\n",
    "    print(in_tensor.shape)\n",
    "    kernel_list.append(tf.Variable(tf.random_normal(shape=(kernel_size, kernel_size, int(in_tensor.shape[-1]), n_filters))))\n",
    "    layers.append(tf.nn.conv2d(in_tensor, kernel_list[i], strides=(1, 1, 1, 1), padding=\"VALID\", name=(\"ConvLayer%d\" % i)))\n",
    "    # I assume you want us to use relu???\n",
    "    layers.append(tf.nn.relu(layers[i]))\n",
    "    layers.append(tf.nn.avg_pool(layers[i + 1], ksize=(1, kernel_size, kernel_size, 1), strides=(1, pool_stride, pool_stride, 1), padding=\"VALID\", name=(\"Pool%d\" % i)))\n",
    "    \n",
    "print(\"Output layer shape\")\n",
    "print(layers[-1].shape)\n",
    "flat_dims = layers[-1].shape[1] * layers[-1].shape[2] * layers[-1].shape[3]\n",
    "layers.append(tf.reshape(layers[-1], (-1, flat_dims)))\n",
    "\n",
    "fc_weights = tf.Variable(tf.random_normal(shape=(int(layers[-1].shape[-1]), 2)))\n",
    "bias = tf.Variable(tf.random_normal(shape=(2, )))\n",
    "layers.append(tf.add(tf.matmul(layers[-1], fc_weights), bias))\n",
    "print(\"Logits shape\")\n",
    "print(layers[-1].shape)\n",
    "\n",
    "reg_term = tf.zeros(shape=(1, ))\n",
    "for weight in tf.trainable_variables():\n",
    "    reg_term += regularizer(weights=weight)\n",
    "    \n",
    "loss = tf.reduce_sum(tf.nn.sparse_softmax_cross_entropy_with_logits(logits=layers[-1], labels=data_out)) + reg_term\n",
    "optimizer = tf.train.AdamOptimizer(learning_rate=learning_rate).minimize(loss)\n",
    "\n",
    "classify_correct = tf.cast(tf.equal(tf.argmax(layers[-1], axis=-1), data_out), dtype=tf.int8)\n",
    "accuracy = tf.divide(tf.reduce_sum(classify_correct), batch_size)\n",
    "\n",
    "with tf.Session() as sess:\n",
    "    sess.run(data_it.initializer)\n",
    "    sess.run(example_it.initializer)\n",
    "    sess.run(tf.global_variables_initializer())\n",
    "    feature_maps_layer_1 = sess.run(layers[1])\n",
    "    plt.imshow(feature_maps_layer_1[0, :, :, 0])\n",
    "    for epoch in range(100):\n",
    "        print(\"Epoch %d\" % epoch)\n",
    "        sess.run(optimizer)\n",
    "        loss_val, acc_val = sess.run((loss, accuracy))\n",
    "        print(\"Loss %.3f, Accuracy %.3f\" % (loss_val, acc_val))\n",
    "        \n",
    "        \n",
    "    \n",
    "    # ding, _ = sess.run(data_it.get_next())\n",
    "    # plt.imshow(ding[0, :, :, :])\n"
   ],
   "metadata": {
    "collapsed": false,
    "pycharm": {
     "name": "#%%\n",
     "is_executing": false
    }
   }
  }
 ],
 "metadata": {
  "kernelspec": {
   "display_name": "Python 3",
   "language": "python",
   "name": "python3"
  },
  "language_info": {
   "codemirror_mode": {
    "name": "ipython",
    "version": 3
   },
   "file_extension": ".py",
   "mimetype": "text/x-python",
   "name": "python",
   "nbconvert_exporter": "python",
   "pygments_lexer": "ipython3",
   "version": "3.6.7"
  },
  "pycharm": {
   "stem_cell": {
    "cell_type": "raw",
    "source": [],
    "metadata": {
     "collapsed": false
    }
   }
  }
 },
 "nbformat": 4,
 "nbformat_minor": 2
}