{
 "cells": [
  {
   "cell_type": "markdown",
   "metadata": {},
   "source": [
    "# 2D CNN"
   ]
  },
  {
   "cell_type": "code",
   "execution_count": 1,
   "metadata": {
    "pycharm": {
     "is_executing": false
    }
   },
   "outputs": [
    {
     "name": "stderr",
     "text": [
      "/home/timluchterhand/Dokumente/PatternRecognition/Assignment12/venv/lib/python3.6/site-packages/tensorflow/python/framework/dtypes.py:523: FutureWarning: Passing (type, 1) or '1type' as a synonym of type is deprecated; in a future version of numpy, it will be understood as (type, (1,)) / '(1,)type'.\n",
      "  _np_qint8 = np.dtype([(\"qint8\", np.int8, 1)])\n",
      "/home/timluchterhand/Dokumente/PatternRecognition/Assignment12/venv/lib/python3.6/site-packages/tensorflow/python/framework/dtypes.py:524: FutureWarning: Passing (type, 1) or '1type' as a synonym of type is deprecated; in a future version of numpy, it will be understood as (type, (1,)) / '(1,)type'.\n",
      "  _np_quint8 = np.dtype([(\"quint8\", np.uint8, 1)])\n",
      "/home/timluchterhand/Dokumente/PatternRecognition/Assignment12/venv/lib/python3.6/site-packages/tensorflow/python/framework/dtypes.py:525: FutureWarning: Passing (type, 1) or '1type' as a synonym of type is deprecated; in a future version of numpy, it will be understood as (type, (1,)) / '(1,)type'.\n",
      "  _np_qint16 = np.dtype([(\"qint16\", np.int16, 1)])\n",
      "/home/timluchterhand/Dokumente/PatternRecognition/Assignment12/venv/lib/python3.6/site-packages/tensorflow/python/framework/dtypes.py:526: FutureWarning: Passing (type, 1) or '1type' as a synonym of type is deprecated; in a future version of numpy, it will be understood as (type, (1,)) / '(1,)type'.\n",
      "  _np_quint16 = np.dtype([(\"quint16\", np.uint16, 1)])\n",
      "/home/timluchterhand/Dokumente/PatternRecognition/Assignment12/venv/lib/python3.6/site-packages/tensorflow/python/framework/dtypes.py:527: FutureWarning: Passing (type, 1) or '1type' as a synonym of type is deprecated; in a future version of numpy, it will be understood as (type, (1,)) / '(1,)type'.\n",
      "  _np_qint32 = np.dtype([(\"qint32\", np.int32, 1)])\n",
      "/home/timluchterhand/Dokumente/PatternRecognition/Assignment12/venv/lib/python3.6/site-packages/tensorflow/python/framework/dtypes.py:532: FutureWarning: Passing (type, 1) or '1type' as a synonym of type is deprecated; in a future version of numpy, it will be understood as (type, (1,)) / '(1,)type'.\n",
      "  np_resource = np.dtype([(\"resource\", np.ubyte, 1)])\n"
     ],
     "output_type": "stream"
    }
   ],
   "source": [
    "import tensorflow as tf\n",
    "import numpy as np\n",
    "import matplotlib.pyplot as plt\n",
    "import pickle\n",
    "import ipywidgets as widgets\n",
    "from ipywidgets import interact\n",
    "from datetime import datetime\n",
    "from timeit import default_timer as timer\n",
    "\n",
    "# Make sure we get reproducible results after each kernel restart\n",
    "tf.reset_default_graph()\n",
    "tf.set_random_seed(1337)\n",
    "np.random.seed(1337)"
   ]
  },
  {
   "cell_type": "markdown",
   "metadata": {},
   "source": [
    "## Configuration"
   ]
  },
  {
   "cell_type": "code",
   "execution_count": 2,
   "metadata": {
    "pycharm": {
     "is_executing": false
    }
   },
   "outputs": [],
   "source": [
    "# General\n",
    "n_classes = 2\n",
    "batch_size = 25\n",
    "epochs = 20\n",
    "learning_rate = 0.005\n",
    "data_file = \"stl10.pickle\"\n",
    "\n",
    "# Activation function (tanh may not be the best activation function in terms of network performance\n",
    "# but has advantages when plotting the activation images (due to the limited range))\n",
    "act_func = tf.nn.tanh\n",
    "\n",
    "# Regularization (applied to the convolutional layers)\n",
    "reg_scale = 0.001\n",
    "regularizer = tf.contrib.layers.l1_regularizer(reg_scale)\n",
    "\n",
    "# CNN-specific\n",
    "n_cnn_layers = 3\n",
    "n_filters = 4\n",
    "kernel_size = 5\n",
    "pool_size = 3\n",
    "pool_stride = 3"
   ]
  },
  {
   "cell_type": "markdown",
   "source": [
    "## Load data"
   ],
   "metadata": {
    "collapsed": false,
    "pycharm": {
     "name": "#%% md\n"
    }
   }
  },
  {
   "cell_type": "code",
   "execution_count": 3,
   "outputs": [],
   "source": [
    "with open(data_file, \"rb\") as file:\n",
    "    data = pickle.load(file)\n",
    "\n",
    "images = data[\"images\"]\n",
    "labels = data[\"labels\"]\n",
    "selected = [100, 700]\n",
    "selected.extend(list(range(labels.shape[0] - 1, labels.shape[0])))\n",
    "selected_images = images[selected]\n",
    "selected_labels = labels[selected]\n",
    "\n",
    "dataset = tf.data.Dataset.from_tensor_slices((images, labels))\n",
    "dataset = dataset.shuffle(buffer_size=labels.shape[0])\n",
    "dataset = dataset.batch(batch_size=batch_size)\n",
    "data_it = dataset.make_initializable_iterator()\n",
    "\n",
    "example_dataset = tf.data.Dataset.from_tensor_slices((selected_images, selected_labels))\n",
    "example_dataset = example_dataset.batch(batch_size=selected_labels.shape[0])\n",
    "example_it = example_dataset.make_initializable_iterator()"
   ],
   "metadata": {
    "collapsed": false,
    "pycharm": {
     "name": "#%%\n",
     "is_executing": false
    }
   }
  },
  {
   "cell_type": "markdown",
   "source": [
    "## Define network"
   ],
   "metadata": {
    "collapsed": false,
    "pycharm": {
     "name": "#%% md\n"
    }
   }
  },
  {
   "cell_type": "code",
   "execution_count": 4,
   "outputs": [
    {
     "name": "stdout",
     "text": [
      "Input dimensions  of layer 0\n",
      "(?, 96, 96, 3)\n",
      "Input dimensions  of layer 1\n",
      "(?, 30, 30, 4)\n",
      "Input dimensions  of layer 2\n",
      "(?, 9, 9, 4)\n",
      "Output layer shape\n",
      "(?, 8, 8, 4)\n",
      "(25, 92, 92, 4)\n"
     ],
     "output_type": "stream"
    },
    {
     "data": {
      "text/plain": "<Figure size 432x288 with 1 Axes>",
      "image/png": "[encoded data removed]"
     },
     "metadata": {
      "needs_background": "light"
     },
     "output_type": "display_data"
    }
   ],
   "source": [
    "kernel_list = []\n",
    "    \n",
    "layers = []\n",
    "data_in, data_out = data_it.get_next()\n",
    "for i in range(n_cnn_layers):\n",
    "    in_tensor = data_in if i == 0 else layers[-1]\n",
    "    print(\"Input dimensions  of layer %d\" % i)\n",
    "    print(in_tensor.shape)\n",
    "    kernel_list.append(tf.Variable(tf.random_normal(shape=(kernel_size, kernel_size, int(in_tensor.shape[-1]), n_filters))))\n",
    "    layers.append(tf.nn.conv2d(in_tensor, kernel_list[i], strides=(1, 1, 1, 1), padding=\"VALID\", name=(\"ConvLayer%d\" % i)))\n",
    "    # I assume you want us to use relu???\n",
    "    layers.append(tf.nn.relu(layers[i]))\n",
    "    layers.append(tf.nn.avg_pool(layers[i + 1], ksize=(1, kernel_size, kernel_size, 1), strides=(1, pool_stride, pool_stride, 1), padding=\"VALID\", name=(\"Pool%d\" % i)))\n",
    "    \n",
    "print(\"Output layer shape\")\n",
    "print(layers[-1].shape)\n",
    "flat_dims = layers[-1].shape[1] * layers[-1].shape[2] * layers[-1].shape[3]\n",
    "layers.append(tf.reshape(layers[-1], (-1, flat_dims)))\n",
    "\n",
    "fc_weights = tf.Variable(tf.random_normal(shape=(int(layers[-1].shape[-1]), 2)))\n",
    "bias = tf.Variable(tf.random_normal(shape=(2, )))\n",
    "layers.append(tf.add(tf.matmul(layers[-1], fc_weights), bias))\n",
    "\n",
    "# @TODO add regularizer!\n",
    "loss = tf.nn.sparse_softmax_cross_entropy_with_logits(logits=layers[-1], labels=data_out)\n",
    "optimizer = tf.train.AdamOptimizer(learning_rate=learning_rate).minimize(loss)\n",
    "\n",
    "classify_correct = tf.cast(tf.equal(tf.argmax(layers[-1], axis=0), data_out), dtype=tf.int8)\n",
    "accuracy = tf.reduce_sum(classify_correct) / batch_size\n",
    "\n",
    "with tf.Session() as sess:\n",
    "    sess.run(data_it.initializer)\n",
    "    sess.run(example_it.initializer)\n",
    "    sess.run(tf.global_variables_initializer())\n",
    "    feature_maps_layer_1 = sess.run(layers[1])\n",
    "    print(feature_maps_layer_1.shape)\n",
    "    plt.imshow(feature_maps_layer_1[0, :, :, 0])\n",
    "    # sess.run(optimizer)\n",
    "    # ding, _ = sess.run(data_it.get_next())\n",
    "    # plt.imshow(ding[0, :, :, :])\n"
   ],
   "metadata": {
    "collapsed": false,
    "pycharm": {
     "name": "#%%\n",
     "is_executing": false
    }
   }
  }
 ],
 "metadata": {
  "kernelspec": {
   "display_name": "Python 3",
   "language": "python",
   "name": "python3"
  },
  "language_info": {
   "codemirror_mode": {
    "name": "ipython",
    "version": 3
   },
   "file_extension": ".py",
   "mimetype": "text/x-python",
   "name": "python",
   "nbconvert_exporter": "python",
   "pygments_lexer": "ipython3",
   "version": "3.6.7"
  },
  "pycharm": {
   "stem_cell": {
    "cell_type": "raw",
    "source": [],
    "metadata": {
     "collapsed": false
    }
   }
  }
 },
 "nbformat": 4,
 "nbformat_minor": 2
}